{
 "cells": [
  {
   "cell_type": "markdown",
   "metadata": {},
   "source": [
    "# ดูชื่อ column ในแต่ละไฟล์"
   ]
  },
  {
   "cell_type": "code",
   "execution_count": 2,
   "metadata": {},
   "outputs": [],
   "source": [
    "import glob\n",
    "import pandas as pd\n",
    "from itertools import zip_longest  # For handling lists of unequal length\n",
    "\n",
    "\n",
    "# Specify your dataset directory (adjust to your actual path)\n",
    "base_path = \"datasets/data/Billing/\"\n",
    "\n",
    "# Find all CSV files\n",
    "csv_files = glob.glob(base_path + \"BP_66*.txt\")\n",
    "\n",
    "headers_list = []\n",
    "headers_with_filenames = []\n",
    "\n",
    "# Read the header of each CSV file\n",
    "for file_path in csv_files:\n",
    "    headers = pd.read_csv(file_path, nrows=0, sep=\"|\", encoding=\"ISO-8859-11\", on_bad_lines=\"warn\", dtype=str).columns.tolist()\n",
    "    print(f\"\\nHeaders from {file_path}: {headers}\")\n",
    "    headers_list.append(headers)\n",
    "    # Create a list where the last element is the filename\n",
    "    row = headers + [file_path.split(\"/\")[-1]] \n",
    "    headers_with_filenames.append(row)\n",
    "    \n",
    "print(headers_list)\n",
    "\n",
    "df_headers = pd.DataFrame(list(zip_longest(*headers_list))).fillna('')\n",
    "print(df_headers)\n",
    "df_headers.to_excel(\"header_columns.xlsx\", index=False)\n",
    "\n",
    "# Create the DataFrame\n",
    "df_headers = pd.DataFrame(headers_with_filenames)\n",
    "\n",
    "print(df_headers)\n",
    "df_headers.to_excel(\"header_columns_files.xlsx\", index=False)"
   ]
  }
 ],
 "metadata": {
  "kernelspec": {
   "display_name": "Python 3",
   "language": "python",
   "name": "python3"
  },
  "language_info": {
   "codemirror_mode": {
    "name": "ipython",
    "version": 3
   },
   "file_extension": ".py",
   "mimetype": "text/x-python",
   "name": "python",
   "nbconvert_exporter": "python",
   "pygments_lexer": "ipython3",
   "version": "3.10.11"
  }
 },
 "nbformat": 4,
 "nbformat_minor": 2
}
